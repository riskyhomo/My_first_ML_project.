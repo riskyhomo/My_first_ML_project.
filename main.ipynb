{
 "cells": [
  {
   "cell_type": "code",
   "execution_count": null,
   "id": "0368fea2",
   "metadata": {},
   "outputs": [],
   "source": [
    "from joblib import dump, load\n",
    "import numpy as np\n",
    "model,my_pipeline = load('Dragon.joblib')\n",
    "a=int(input(\"Enter the CRIM: \"))\n",
    "b=int(input(\"Enter the ZN: \"))\n",
    "c=int(input(\"Enter the INDUS: \"))\n",
    "d=int(input(\"Enter the CHAS: \"))\n",
    "e=int(input(\"Enter the NOX: \"))\n",
    "f=int(input(\"Enter the RM: \"))\n",
    "g=int(input(\"Enter the AGE: \"))\n",
    "h=int(input(\"Enter the DIS: \"))\n",
    "i=int(input(\"Enter the RAD: \"))\n",
    "j=int(input(\"Enter the TAX: \"))\n",
    "k=int(input(\"Enter the PTRATIO: \"))\n",
    "l=int(input(\"Enter the B: \"))\n",
    "m=int(input(\"Enter the LSTAT: \"))\n",
    "\n",
    "a=np.array([[a,b,c,d,e,f,g,h,i,j,k,l,m]])\n",
    "X_test_prepared = my_pipeline.transform(a)\n",
    "final_predictions = model.predict(X_test_prepared)\n",
    "print(\"The price of the house is expected to be: \",int(final_predictions))"
   ]
  }
 ],
 "metadata": {
  "kernelspec": {
   "display_name": "Python 3 (ipykernel)",
   "language": "python",
   "name": "python3"
  },
  "language_info": {
   "codemirror_mode": {
    "name": "ipython",
    "version": 3
   },
   "file_extension": ".py",
   "mimetype": "text/x-python",
   "name": "python",
   "nbconvert_exporter": "python",
   "pygments_lexer": "ipython3",
   "version": "3.10.9"
  }
 },
 "nbformat": 4,
 "nbformat_minor": 5
}
